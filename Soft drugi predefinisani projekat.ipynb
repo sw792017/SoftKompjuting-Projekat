{
 "cells": [
  {
   "cell_type": "markdown",
   "metadata": {},
   "source": [
    "# AI Detektor Vremena"
   ]
  },
  {
   "cell_type": "markdown",
   "metadata": {},
   "source": [
    "## Kreiranje modela za detekciju vremena sa slike"
   ]
  },
  {
   "cell_type": "markdown",
   "metadata": {},
   "source": [
    "importi za ucitavanje"
   ]
  },
  {
   "cell_type": "code",
   "execution_count": 1,
   "metadata": {},
   "outputs": [],
   "source": [
    "import pandas\n",
    "\n",
    "import numpy as np\n",
    "import matplotlib.pyplot as plt\n",
    "import cv2"
   ]
  },
  {
   "cell_type": "markdown",
   "metadata": {},
   "source": [
    "Definisanje globalnih promenljivih"
   ]
  },
  {
   "cell_type": "code",
   "execution_count": 2,
   "metadata": {},
   "outputs": [],
   "source": [
    "PUTANJA = 'C:/Users/User/Desktop/AI'# promeniti na svoju lokaciju foldera koji sadrzi test folder, train folder, test_labels.csv i train_labels.csv\n",
    "KATEGORIJE = ['sunrise', 'cloudy', 'shine', 'rain']\n",
    "IMG_SIZE = 400"
   ]
  },
  {
   "cell_type": "markdown",
   "metadata": {},
   "source": [
    "Pravljenje niza labela \"train_y\" i punimo ga brojevnim reprezentacijama zadatih kategorija (napravljn da prihvata pogresne i podatke)"
   ]
  },
  {
   "cell_type": "code",
   "execution_count": 3,
   "metadata": {},
   "outputs": [],
   "source": [
    "csv_fajl = pandas.read_csv(PUTANJA + r\"\\train_labels.csv\")\n",
    "\n",
    "train_y = np.ndarray(0)\n",
    "\n",
    "for index, row in csv_fajl.iterrows():\n",
    "    if row['weather'] == 'sunrise':\n",
    "        train_y = np.append(train_y, 0)\n",
    "    elif row['weather'] == 'cloudy':\n",
    "        train_y = np.append(train_y, 1)\n",
    "    elif row['weather'] == 'shine':\n",
    "        train_y = np.append(train_y, 2)\n",
    "    elif row['weather'] == 'rain':\n",
    "        train_y = np.append(train_y, 3)\n",
    "    else:\n",
    "        print(\"Neodgovarajuca labela na slici {}\".format(row['weather']))\n",
    "        \n",
    "trainy2 = np.ndarray(0)\n",
    "\n",
    "for index, row in csv_fajl.iterrows():\n",
    "    if row['weather'] == 'sunrise':\n",
    "        trainy2 = np.append(trainy2, 0)\n",
    "    elif row['weather'] == 'cloudy':\n",
    "        trainy2 = np.append(trainy2, 1)\n",
    "    elif row['weather'] == 'shine':\n",
    "        trainy2 = np.append(trainy2, 2)\n",
    "    elif row['weather'] == 'rain':\n",
    "        trainy2 = np.append(trainy2, 3)\n",
    "    else:\n",
    "        trainy2 = np.append(trainy2, -1)"
   ]
  },
  {
   "cell_type": "markdown",
   "metadata": {},
   "source": [
    "Ucitavanje slika"
   ]
  },
  {
   "cell_type": "code",
   "execution_count": 4,
   "metadata": {},
   "outputs": [],
   "source": [
    "csv_fajl.head()\n",
    "training_data = []\n",
    "\n",
    "for index, row in csv_fajl.iterrows():\n",
    "    if trainy2[index] != -1:\n",
    "        img_name = row['file_name']\n",
    "        lokacija = PUTANJA + '/train/' + str(img_name)\n",
    "        try:# za slucaj da neka slika ostecena\n",
    "            slika = cv2.imread(lokacija)\n",
    "            slika = cv2.cvtColor(slika, cv2.COLOR_BGR2GRAY)\n",
    "            slika = cv2.resize(slika, dsize=(IMG_SIZE, IMG_SIZE), interpolation=cv2.INTER_CUBIC)\n",
    "            training_data.append([slika, int(trainy2[index])])\n",
    "        except:\n",
    "            print(\"Ostecena slika \" + str(img_name))"
   ]
  },
  {
   "cell_type": "markdown",
   "metadata": {},
   "source": [
    "## HOG"
   ]
  },
  {
   "cell_type": "code",
   "execution_count": 5,
   "metadata": {},
   "outputs": [
    {
     "name": "stdout",
     "output_type": "stream",
     "text": [
      "(186624, 1)\n"
     ]
    }
   ],
   "source": [
    "featuresList = []\n",
    "labels = []\n",
    "\n",
    "nbins = 9 # broj binova\n",
    "cell_size = (8, 8)# broj piksela po celiji (moze da se poveca za brzi rad)\n",
    "block_size = (3, 3) # broj celija po bloku\n",
    "\n",
    "hog = cv2.HOGDescriptor(_winSize=(IMG_SIZE // cell_size[1] * cell_size[1], \n",
    "                                  IMG_SIZE // cell_size[0] * cell_size[0]),\n",
    "                        _blockSize=(block_size[1] * cell_size[1],\n",
    "                                    block_size[0] * cell_size[0]),\n",
    "                        _blockStride=(cell_size[1], cell_size[0]),\n",
    "                        _cellSize=(cell_size[1], cell_size[0]),\n",
    "                        _nbins=nbins)\n",
    "\n",
    "\n",
    "for features, label in training_data:\n",
    "    featuresList.append(hog.compute(features))\n",
    "    labels.append(label)\n",
    "\n",
    "print(featuresList[0].shape)\n",
    "\n",
    "X = np.array(featuresList)\n",
    "y = np.array(labels)"
   ]
  },
  {
   "cell_type": "markdown",
   "metadata": {},
   "source": [
    "Oblikujemo nizove"
   ]
  },
  {
   "cell_type": "code",
   "execution_count": 6,
   "metadata": {},
   "outputs": [],
   "source": [
    "nsamples, nx, ny = X.shape\n",
    "X = X.reshape((nsamples, nx*ny))"
   ]
  },
  {
   "cell_type": "markdown",
   "metadata": {},
   "source": [
    "## Cuvanje podatke koje smo ucitali (da ne bi smo morali da ih ucitavamo svaki put)"
   ]
  },
  {
   "cell_type": "code",
   "execution_count": 7,
   "metadata": {},
   "outputs": [],
   "source": [
    "import pickle\n",
    "\n",
    "pickle_out = open(\"X.pickle\", \"wb\")\n",
    "pickle.dump(X, pickle_out)\n",
    "pickle_out.close()\n",
    "\n",
    "pickle_out = open(\"y.pickle\", \"wb\")\n",
    "pickle.dump(y, pickle_out)\n",
    "pickle_out.close()"
   ]
  },
  {
   "cell_type": "markdown",
   "metadata": {},
   "source": [
    "## Kreiranje Modela"
   ]
  },
  {
   "cell_type": "markdown",
   "metadata": {},
   "source": [
    "Ucitavamo prethodno ucitane podatke (po potrebi)"
   ]
  },
  {
   "cell_type": "code",
   "execution_count": 8,
   "metadata": {},
   "outputs": [],
   "source": [
    "import pickle\n",
    "X = pickle.load(open(\"X.pickle\", \"rb\"))\n",
    "y = pickle.load(open(\"y.pickle\", \"rb\"))"
   ]
  },
  {
   "cell_type": "markdown",
   "metadata": {},
   "source": [
    "## SVC"
   ]
  },
  {
   "cell_type": "code",
   "execution_count": 9,
   "metadata": {},
   "outputs": [
    {
     "data": {
      "text/plain": [
       "SVC(C=1.0, break_ties=False, cache_size=200, class_weight=None, coef0=0.0,\n",
       "    decision_function_shape='ovr', degree=3, gamma='scale', kernel='linear',\n",
       "    max_iter=-1, probability=False, random_state=None, shrinking=True,\n",
       "    tol=0.001, verbose=False)"
      ]
     },
     "execution_count": 9,
     "metadata": {},
     "output_type": "execute_result"
    }
   ],
   "source": [
    "from sklearn.svm import SVC\n",
    "from sklearn.metrics import accuracy_score\n",
    "\n",
    "svm = SVC(kernel=\"linear\", decision_function_shape='ovr')\n",
    "svm.fit(X, y)"
   ]
  },
  {
   "cell_type": "markdown",
   "metadata": {},
   "source": [
    "# Testiranje modela"
   ]
  },
  {
   "cell_type": "code",
   "execution_count": 10,
   "metadata": {},
   "outputs": [],
   "source": [
    "test_csv_fajl = pandas.read_csv(PUTANJA + r\"\\test_labels.csv\")\n",
    "\n",
    "test_y = np.ndarray(0)\n",
    "\n",
    "for index, row in test_csv_fajl.iterrows():\n",
    "    if row['weather'] == 'sunrise':\n",
    "        test_y = np.append(test_y, 0)\n",
    "    elif row['weather'] == 'cloudy':\n",
    "        test_y = np.append(test_y, 1)\n",
    "    elif row['weather'] == 'shine':\n",
    "        test_y = np.append(test_y, 2)\n",
    "    elif row['weather'] == 'rain':\n",
    "        test_y = np.append(test_y, 3)\n",
    "    else:\n",
    "        print(\"Neodgovarajuca labela na slici {}\".format(row['weather']))\n",
    "        \n",
    "test_trainy2 = np.ndarray(0)\n",
    "\n",
    "for index, row in test_csv_fajl.iterrows():\n",
    "    if row['weather'] == 'sunrise':\n",
    "        test_trainy2 = np.append(test_trainy2, 0)\n",
    "    elif row['weather'] == 'cloudy':\n",
    "        test_trainy2 = np.append(test_trainy2, 1)\n",
    "    elif row['weather'] == 'shine':\n",
    "        test_trainy2 = np.append(test_trainy2, 2)\n",
    "    elif row['weather'] == 'rain':\n",
    "        test_trainy2 = np.append(test_trainy2, 3)\n",
    "    else:\n",
    "        test_trainy2 = np.append(test_trainy2, -1)"
   ]
  },
  {
   "cell_type": "code",
   "execution_count": 11,
   "metadata": {},
   "outputs": [],
   "source": [
    "test_csv_fajl.head()\n",
    "test_training_data = []\n",
    "\n",
    "for index, row in test_csv_fajl.iterrows():\n",
    "    if test_trainy2[index] != -1:\n",
    "        img_name = row['file_name']\n",
    "        lokacija = PUTANJA + '/test/' + str(img_name)\n",
    "        try:\n",
    "            slika = cv2.imread(lokacija)\n",
    "            slika = cv2.cvtColor(slika, cv2.COLOR_BGR2GRAY)\n",
    "            slika = cv2.resize(slika, dsize=(IMG_SIZE, IMG_SIZE), interpolation=cv2.INTER_CUBIC)\n",
    "            test_training_data.append([slika, int(test_trainy2[index])])\n",
    "        except:\n",
    "            print(\"Ostecena slika \" + str(img_name))"
   ]
  },
  {
   "cell_type": "code",
   "execution_count": 12,
   "metadata": {},
   "outputs": [
    {
     "name": "stdout",
     "output_type": "stream",
     "text": [
      "(186624, 1)\n"
     ]
    }
   ],
   "source": [
    "test_featuresList = []\n",
    "test_labels = []\n",
    "\n",
    "for test_features, test_label in test_training_data:\n",
    "    test_featuresList.append(hog.compute(test_features))\n",
    "    test_labels.append(test_label)\n",
    "\n",
    "print(test_featuresList[0].shape)\n",
    "\n",
    "test_X = np.array(test_featuresList)\n",
    "test_y = np.array(test_labels)"
   ]
  },
  {
   "cell_type": "code",
   "execution_count": 13,
   "metadata": {},
   "outputs": [
    {
     "name": "stdout",
     "output_type": "stream",
     "text": [
      "(225, 186624) (225,)\n"
     ]
    }
   ],
   "source": [
    "nsamples, nx, ny = test_X.shape\n",
    "test_X = test_X.reshape((nsamples, nx*ny))\n",
    "\n",
    "print(np.shape(test_X), np.shape(test_y))"
   ]
  },
  {
   "cell_type": "code",
   "execution_count": 14,
   "metadata": {},
   "outputs": [
    {
     "name": "stdout",
     "output_type": "stream",
     "text": [
      "score = 0.7911111111111111 (trazi se bar 0.7 preciznost)\n"
     ]
    }
   ],
   "source": [
    "y3 = svm.predict(test_X)\n",
    "print(\"score = {} (trazi se bar 0.7 preciznost)\".format(accuracy_score(test_y, y3)))"
   ]
  }
 ],
 "metadata": {
  "kernelspec": {
   "display_name": "Python 3",
   "language": "python",
   "name": "python3"
  },
  "language_info": {
   "codemirror_mode": {
    "name": "ipython",
    "version": 3
   },
   "file_extension": ".py",
   "mimetype": "text/x-python",
   "name": "python",
   "nbconvert_exporter": "python",
   "pygments_lexer": "ipython3",
   "version": "3.7.6"
  }
 },
 "nbformat": 4,
 "nbformat_minor": 4
}
